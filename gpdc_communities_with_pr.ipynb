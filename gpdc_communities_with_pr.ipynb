{
 "cells": [
  {
   "cell_type": "code",
   "execution_count": 3,
   "id": "83a363a8-063a-4203-bcc4-e3dacf6c04e0",
   "metadata": {},
   "outputs": [],
   "source": [
    "from embeddings import PageRank\n",
    "from detectors import GPDCCommunities\n",
    "from linear_pa import ScaleFreeDiGraph\n",
    "import networkx as nx\n",
    "import numpy as np\n",
    "import matplotlib.pyplot as plt"
   ]
  },
  {
   "cell_type": "code",
   "execution_count": 4,
   "id": "2c212237-8fe2-4497-9925-a95661b07c58",
   "metadata": {},
   "outputs": [],
   "source": [
    "import random\n",
    "\n",
    "np.random.seed(42)\n",
    "random.seed(42)"
   ]
  },
  {
   "cell_type": "markdown",
   "id": "da4582d4-00dc-4f35-8579-93e32f8b2fdc",
   "metadata": {},
   "source": [
    "Make 10000 steps of evolution, starting from one node with parameters $(0.4, 0.2, 0.4), \\delta_{in} = \\delta_{out} = 1$."
   ]
  },
  {
   "cell_type": "code",
   "execution_count": 32,
   "id": "899dbb32-b898-4b15-89ed-bf70dccf5a7f",
   "metadata": {},
   "outputs": [
    {
     "name": "stdout",
     "output_type": "stream",
     "text": [
      "CPU times: user 2 μs, sys: 1e+03 ns, total: 3 μs\n",
      "Wall time: 4.77 μs\n"
     ]
    }
   ],
   "source": [
    "%time\n",
    "\n",
    "init_graph = nx.MultiDiGraph()\n",
    "init_graph.add_node(0)\n",
    "graph = ScaleFreeDiGraph()\n",
    "graph.grow(steps=10000, alpha=0.4, beta=0.2, gamma=0.4, delta_in=1, delta_out=1)"
   ]
  },
  {
   "cell_type": "markdown",
   "id": "f7f672d1-6650-4379-ba06-6b07fba8b6a8",
   "metadata": {},
   "source": [
    "Initialise community detector."
   ]
  },
  {
   "cell_type": "code",
   "execution_count": 39,
   "id": "348778a5-b987-48b6-bf83-2f0d2df24c03",
   "metadata": {},
   "outputs": [
    {
     "name": "stdout",
     "output_type": "stream",
     "text": [
      "CPU times: user 2 μs, sys: 0 ns, total: 2 μs\n",
      "Wall time: 4.29 μs\n"
     ]
    }
   ],
   "source": [
    "%time\n",
    "\n",
    "detector = GPDCCommunities(init_graph=graph.get_graph(),\n",
    "                           embedding_class=PageRank,\n",
    "                           alpha=0.1, tail_size=15)"
   ]
  },
  {
   "cell_type": "code",
   "execution_count": 40,
   "id": "c2bdf176-f3be-44a1-9f8c-cf1a53abd15b",
   "metadata": {},
   "outputs": [
    {
     "name": "stdout",
     "output_type": "stream",
     "text": [
      "CPU times: user 2 μs, sys: 1e+03 ns, total: 3 μs\n",
      "Wall time: 4.29 μs\n"
     ]
    }
   ],
   "source": [
    "%time\n",
    "\n",
    "graph.grow(steps=1000, alpha=0.2, beta=0.3, gamma=0.5, delta_in=1, delta_out=1)\n",
    "detector.update(graph.get_graph())"
   ]
  },
  {
   "cell_type": "code",
   "execution_count": 41,
   "id": "b2f947be-6a28-42aa-b587-f923ed451cee",
   "metadata": {},
   "outputs": [
    {
     "name": "stdout",
     "output_type": "stream",
     "text": [
      "CPU times: user 4 μs, sys: 0 ns, total: 4 μs\n",
      "Wall time: 6.91 μs\n"
     ]
    }
   ],
   "source": [
    "%time\n",
    "\n",
    "graph.grow(steps=1000, alpha=0.2, beta=0.3, gamma=0.5, delta_in=1, delta_out=1)\n",
    "detector.update(graph.get_graph())"
   ]
  },
  {
   "cell_type": "code",
   "execution_count": 42,
   "id": "2440e0ac-2a7a-4990-989f-660781e136cc",
   "metadata": {},
   "outputs": [
    {
     "name": "stdout",
     "output_type": "stream",
     "text": [
      "CPU times: user 2 μs, sys: 0 ns, total: 2 μs\n",
      "Wall time: 3.81 μs\n"
     ]
    }
   ],
   "source": [
    "%time\n",
    "\n",
    "graph.grow(steps=1000, alpha=0.3, beta=0.1, gamma=0.6, delta_in=1, delta_out=1)\n",
    "detector.update(graph.get_graph())"
   ]
  },
  {
   "cell_type": "code",
   "execution_count": 43,
   "id": "03d7ea2e-6805-4e12-a9f5-0a21352234b9",
   "metadata": {},
   "outputs": [
    {
     "name": "stdout",
     "output_type": "stream",
     "text": [
      "CPU times: user 2 μs, sys: 0 ns, total: 2 μs\n",
      "Wall time: 3.81 μs\n"
     ]
    }
   ],
   "source": [
    "%time\n",
    "\n",
    "graph.grow(steps=1000, alpha=0.3, beta=0.1, gamma=0.6, delta_in=1, delta_out=1)\n",
    "detector.update(graph.get_graph())"
   ]
  },
  {
   "cell_type": "code",
   "execution_count": 44,
   "id": "6d5a539c-43c1-4768-a923-8dfd642d9d84",
   "metadata": {},
   "outputs": [
    {
     "name": "stdout",
     "output_type": "stream",
     "text": [
      "CPU times: user 2 μs, sys: 0 ns, total: 2 μs\n",
      "Wall time: 4.53 μs\n"
     ]
    }
   ],
   "source": [
    "%time\n",
    "\n",
    "graph.grow(steps=1000, alpha=0.3, beta=0.1, gamma=0.6, delta_in=1, delta_out=1)\n",
    "detector.update(graph.get_graph())"
   ]
  },
  {
   "cell_type": "code",
   "execution_count": null,
   "id": "4d4b0504-1b37-45c7-9fd7-eee82a3a1aab",
   "metadata": {},
   "outputs": [],
   "source": []
  }
 ],
 "metadata": {
  "kernelspec": {
   "display_name": "Python 3 (ipykernel)",
   "language": "python",
   "name": "python3"
  },
  "language_info": {
   "codemirror_mode": {
    "name": "ipython",
    "version": 3
   },
   "file_extension": ".py",
   "mimetype": "text/x-python",
   "name": "python",
   "nbconvert_exporter": "python",
   "pygments_lexer": "ipython3",
   "version": "3.12.9"
  }
 },
 "nbformat": 4,
 "nbformat_minor": 5
}
