{
 "cells": [
  {
   "cell_type": "code",
   "execution_count": 2,
   "id": "2a20fd56-a015-4d14-8733-22e3c7465907",
   "metadata": {},
   "outputs": [],
   "source": [
    "import numpy as np\n",
    "import scipy.stats as sps"
   ]
  },
  {
   "cell_type": "markdown",
   "id": "cff2c2c9-9468-4090-b20f-3e3fc95c053e",
   "metadata": {},
   "source": [
    "Генератор распределения Фреше."
   ]
  },
  {
   "cell_type": "code",
   "execution_count": 3,
   "id": "8ce23109-688c-457a-a398-32d9a508e4a7",
   "metadata": {},
   "outputs": [],
   "source": [
    "def frechet_sample(gamma, size):\n",
    "    U = np.random.uniform(size=size)\n",
    "    return (-np.log(U))**(-gamma) / gamma"
   ]
  },
  {
   "cell_type": "markdown",
   "id": "e2cc7ffc-a0db-4a51-b92b-8c777704167b",
   "metadata": {},
   "source": [
    "Оценка Хилла."
   ]
  },
  {
   "cell_type": "code",
   "execution_count": 4,
   "id": "476af456-954b-40b3-b101-2e7bbfded17f",
   "metadata": {},
   "outputs": [],
   "source": [
    "def hill_estimator(sample: np.ndarray) -> np.ndarray:\n",
    "    '''\n",
    "    Calculate Hill's estimates for k = 1, ..., (number of positive observations) - 1\n",
    "    '''\n",
    "    data = sample[sample > 0]\n",
    "    if np.all(data[:-1] >= data[1:]):\n",
    "        log_data = np.log(data)\n",
    "    else:\n",
    "        log_data = np.log(np.sort(data)[::-1])\n",
    "\n",
    "    return np.cumsum(log_data)[:-1] / np.arange(1, len(log_data)) - log_data[1:]"
   ]
  },
  {
   "cell_type": "markdown",
   "id": "da1cccbf-f66f-44ff-a128-6641e7e750fb",
   "metadata": {},
   "source": [
    "Оценка mixed moment."
   ]
  },
  {
   "cell_type": "code",
   "execution_count": 5,
   "id": "3e2ea88a-d7fd-47ae-943a-73fa35596d53",
   "metadata": {},
   "outputs": [],
   "source": [
    "def mixed_moment_estimator(sample: np.ndarray,\n",
    "                           hill_estims: np.ndarray | None = None) -> np.ndarray:\n",
    "    '''\n",
    "    Calculate mixed moment estimates for k = 1, ..., (number of positive observations) - 1\n",
    "    :param hill_estims: Hill's estimates of EVI\n",
    "    '''\n",
    "    data = sample[sample > 0]\n",
    "    if not np.all(data[:-1] >= data[1:]):\n",
    "        data = np.sort(data)[::-1]\n",
    "\n",
    "    if hill_estims is None:\n",
    "        hill_estims = hill_estimator(data)\n",
    "\n",
    "    L = 1 - np.cumsum(1 / data)[:-1] * data[1:] / np.arange(1, len(data))\n",
    "    phi = (hill_estims - L) / L**2\n",
    "    estims = (phi - 1) / (1 + 2 * np.min(phi - 1, 0))\n",
    "\n",
    "    return estims"
   ]
  },
  {
   "cell_type": "markdown",
   "id": "5330ee93-55be-4127-97d4-95ebfc704265",
   "metadata": {},
   "source": [
    "Оценка Generalised Jackknife.\n",
    "\n",
    "$$ \\hat{\\gamma}_k^{GJ} = 2\\hat{\\gamma}_k^V - \\hat{\\gamma}^H(n, k) $$\n",
    "\n",
    "$$ \\hat{\\gamma}_k^V = \\frac{M_{nk}}{2\\hat{\\gamma}^H(n, k)} $$\n",
    "\n",
    "$$ M_{nk} = \\frac{1}{k} \\sum_{i=1}^k Y_{(i, k)}^2 $$\n",
    "\n",
    "$$ Y_{(i, k)} = \\ln \\frac{X_{(n - i + 1)}}{X_{(n - k)}} $$"
   ]
  },
  {
   "cell_type": "code",
   "execution_count": 6,
   "id": "2505aef7-53c7-491f-b48f-63af957458e4",
   "metadata": {},
   "outputs": [],
   "source": [
    "def generalised_jackknife_estimator(sample: np.ndarray,\n",
    "                                    hill_estims: np.ndarray | None = None) -> np.ndarray:\n",
    "    '''\n",
    "    Calculate Generalised Jackknife estimates for k = 1, ..., (number of positive observations) - 1\n",
    "    :param hill_estims: Hill's estimates of EVI\n",
    "    '''\n",
    "    data = sample[sample > 0]\n",
    "    if not np.all(data[:-1] >= data[1:]):\n",
    "        data = np.sort(data)[::-1]\n",
    "    log_data = np.log(data)\n",
    "\n",
    "    if hill_estims is None:\n",
    "        hill_estims = hill_estimator(data)\n",
    "\n",
    "    nums = np.arange(1, len(log_data))\n",
    "    sums = np.cumsum(log_data)[:-1]\n",
    "    sums2 = np.cumsum(log_data**2)[:-1]\n",
    "\n",
    "    M = (sums2 - 2 * sums * log_data[1:] + log_data[1:]**2 * nums) / nums\n",
    "\n",
    "    return M / hill_estims - hill_estims"
   ]
  },
  {
   "cell_type": "markdown",
   "id": "8779174a-45bd-47c7-8ec8-30aa331771c3",
   "metadata": {},
   "source": [
    "Метод Eye-Ball."
   ]
  },
  {
   "cell_type": "code",
   "execution_count": 7,
   "id": "06df2540-8693-4e6e-9b0d-5fd5a1ba2075",
   "metadata": {},
   "outputs": [],
   "source": [
    "def eye_ball_tail_size(estimates: np.ndarray, w_proportion: float = 0.01,\n",
    "                       h: float = 0.9, eps: float = 0.3) -> int:\n",
    "    '''\n",
    "    Eye-Ball selection of k for tail index estimation\n",
    "    :param estimates: tail index estimates for different k\n",
    "    '''\n",
    "    w = int(len(estimates) * w_proportion)\n",
    "\n",
    "    for k in range(1, len(estimates) - w):\n",
    "        diffs = estimates[k + 1:k + w + 1] - estimates[k]\n",
    "        if np.sum((diffs > -eps) & (diffs < eps)) / w > h:\n",
    "            return k + 1"
   ]
  },
  {
   "cell_type": "markdown",
   "id": "962a4528-e1fb-48bd-b84a-2775d5c56df9",
   "metadata": {},
   "source": [
    "Проверяем."
   ]
  },
  {
   "cell_type": "code",
   "execution_count": 150,
   "id": "bee50301-3490-488f-a9e0-8e6a37e4a554",
   "metadata": {},
   "outputs": [],
   "source": [
    "b = 1\n",
    "N = 10000\n",
    "\n",
    "sample = sps.pareto.rvs(b=b, size=N)"
   ]
  },
  {
   "cell_type": "code",
   "execution_count": 178,
   "id": "0abfe474-9976-486d-a4cc-bbc1a2f164a9",
   "metadata": {},
   "outputs": [],
   "source": [
    "gamma_estims = mixed_moment_estimator(sample)\n",
    "alpha_estims = 1 / gamma_estims"
   ]
  },
  {
   "cell_type": "code",
   "execution_count": 179,
   "id": "a14c5d1f-d0fe-4552-ad5f-3792759f4d17",
   "metadata": {},
   "outputs": [
    {
     "data": {
      "text/plain": [
       "13"
      ]
     },
     "execution_count": 179,
     "metadata": {},
     "output_type": "execute_result"
    }
   ],
   "source": [
    "k_eye = eye_ball_k(alpha_estims, h=0.95)\n",
    "k_eye"
   ]
  },
  {
   "cell_type": "code",
   "execution_count": 180,
   "id": "21aaf608-c243-470a-9bc1-f98ea1dc0e4c",
   "metadata": {},
   "outputs": [
    {
     "name": "stdout",
     "output_type": "stream",
     "text": [
      "alpha estimate: 0.43057519184839294\n"
     ]
    }
   ],
   "source": [
    "print(f'alpha estimate: {alpha_estims[k_eye - 1]}')"
   ]
  },
  {
   "cell_type": "code",
   "execution_count": 521,
   "id": "672308f0-251d-4cfc-92db-9612681551b8",
   "metadata": {},
   "outputs": [],
   "source": [
    "import matplotlib.pyplot as plt"
   ]
  },
  {
   "cell_type": "code",
   "execution_count": 182,
   "id": "59c4b697-6f58-4cd9-ab4c-dc0c8358b1bb",
   "metadata": {},
   "outputs": [
    {
     "data": {
      "image/png": "[encoded data removed]",
      "text/plain": [
       "<Figure size 700x700 with 1 Axes>"
      ]
     },
     "metadata": {},
     "output_type": "display_data"
    }
   ],
   "source": [
    "plt.figure(figsize=(7, 7))\n",
    "\n",
    "plt.plot(np.arange(1, len(alpha_estims) + 1), alpha_estims)\n",
    "plt.axhline(y=b, color='red', linestyle = '--')\n",
    "\n",
    "plt.title('Mixed moment estimator')\n",
    "plt.xlabel('k')\n",
    "plt.ylabel('$\\\\alpha(k)$')\n",
    "\n",
    "plt.xlim((0, 1000))\n",
    "\n",
    "plt.show()"
   ]
  },
  {
   "cell_type": "code",
   "execution_count": 256,
   "id": "9138518c-5031-43fc-abcf-1471f54ffbb7",
   "metadata": {},
   "outputs": [],
   "source": [
    "b = 1\n",
    "N = 10000\n",
    "\n",
    "sample = sps.pareto.rvs(b=b, size=N)"
   ]
  },
  {
   "cell_type": "code",
   "execution_count": 257,
   "id": "1878562a-af5a-4df0-8784-a42c36b67d39",
   "metadata": {},
   "outputs": [],
   "source": [
    "gj_gamma = generalised_jackknife_estimator(sample)\n",
    "gj_alpha = 1 / gj_gamma\n",
    "k_eye = eye_ball_tail_size(gj_alpha)"
   ]
  },
  {
   "cell_type": "code",
   "execution_count": 258,
   "id": "51edec21-89f4-4325-92c4-9ad7b55451d7",
   "metadata": {},
   "outputs": [
    {
     "data": {
      "text/plain": [
       "3"
      ]
     },
     "execution_count": 258,
     "metadata": {},
     "output_type": "execute_result"
    }
   ],
   "source": [
    "k_eye"
   ]
  },
  {
   "cell_type": "code",
   "execution_count": 259,
   "id": "b8d8a1b0-5f77-44d4-aebc-7ccb766f51da",
   "metadata": {},
   "outputs": [
    {
     "name": "stdout",
     "output_type": "stream",
     "text": [
      "alpha estimate: 1.2402573033743025\n"
     ]
    }
   ],
   "source": [
    "print(f'alpha estimate: {gj_alpha[k_eye - 1]}')"
   ]
  },
  {
   "cell_type": "code",
   "execution_count": 260,
   "id": "0c5f93f1-dc7e-49b1-a412-83bfa3a1c86c",
   "metadata": {},
   "outputs": [
    {
     "data": {
      "text/plain": [
       "1.049290289131547"
      ]
     },
     "execution_count": 260,
     "metadata": {},
     "output_type": "execute_result"
    }
   ],
   "source": [
    "gj_alpha[1:].mean()"
   ]
  },
  {
   "cell_type": "code",
   "execution_count": 261,
   "id": "19577c7d-5644-447b-ba4c-684ace6cf99e",
   "metadata": {},
   "outputs": [
    {
     "data": {
      "image/png": "[encoded data removed]",
      "text/plain": [
       "<Figure size 700x700 with 1 Axes>"
      ]
     },
     "metadata": {},
     "output_type": "display_data"
    }
   ],
   "source": [
    "plt.figure(figsize=(7, 7))\n",
    "\n",
    "plt.plot(np.arange(1, len(gj_alpha) + 1), gj_alpha)\n",
    "plt.axhline(y=1, color='red', linestyle = '--')\n",
    "\n",
    "plt.title('Generalised Jackknife estimator')\n",
    "plt.xlabel('k')\n",
    "plt.ylabel('$\\\\alpha(k)$')\n",
    "\n",
    "plt.xlim((-5, 200))\n",
    "plt.ylim((-5, 10))\n",
    "\n",
    "plt.show()"
   ]
  },
  {
   "cell_type": "markdown",
   "id": "53b8553b-27a1-434e-9cc3-52f44fc50204",
   "metadata": {},
   "source": [
    "SAMSEE:\n",
    "\n",
    "$$ \\hat{k}_{SAMSEE} = \\arg\\min_{1 < k < K^*} SAMSEE(k) $$\n",
    "\n",
    "$$ SAMSEE(k) = \\frac{(\\hat{\\gamma}_{K^*}^{GJ})^2}{k} + 4 \\hat{b}_{k, K^*}^2, \\ \\hat{b}_{k, K} = \\overline{\\gamma}_{k, K} - \\overline{\\gamma}_K $$\n",
    "\n",
    "$$ \\overline{\\gamma}_{k, K} = \\frac{1}{K - k + 1} \\sum_{i=k}^K \\hat{\\gamma}^H(n, i), \\ \\overline{\\gamma}_K = \\frac{1}{K} \\sum_{i=1}^K \\hat{\\gamma}^H(n, i) $$\n",
    "\n",
    "Выбор $K^*$:\n",
    "\n",
    "$$\n",
    "AD(K) = \\frac{1}{K} \\sum_{k=1}^K \\left( \\hat{\\gamma}_k^V + \\hat{b}_{k, K} - \\hat{\\gamma}^H(n, k) \\right)^2\n",
    "$$\n",
    "\n",
    "$$ K^* = \\arg \\min_K \\left\\{ \\sum_{i=-2, i \\ne 0}^2 \\left| \\frac{AD(K) - AD(K + i)}{i} \\right| \\right\\} $$\n",
    "\n",
    "$$\n",
    "\\hat{\\gamma}_k^V = (\\hat{\\gamma}_k^{GJ} + \\hat{\\gamma}^H(n, k)) / 2\n",
    "$$"
   ]
  },
  {
   "cell_type": "code",
   "execution_count": 1,
   "id": "b2e359c6-f8dd-463d-980a-4dcecc3a1913",
   "metadata": {},
   "outputs": [
    {
     "ename": "NameError",
     "evalue": "name 'np' is not defined",
     "output_type": "error",
     "traceback": [
      "\u001b[0;31m---------------------------------------------------------------------------\u001b[0m",
      "\u001b[0;31mNameError\u001b[0m                                 Traceback (most recent call last)",
      "Cell \u001b[0;32mIn[1], line 1\u001b[0m\n\u001b[0;32m----> 1\u001b[0m \u001b[38;5;28;01mdef\u001b[39;00m \u001b[38;5;21msamsee\u001b[39m(sample: \u001b[43mnp\u001b[49m\u001b[38;5;241m.\u001b[39mndarray,\n\u001b[1;32m      2\u001b[0m            hill_estims: np\u001b[38;5;241m.\u001b[39mndarray \u001b[38;5;241m|\u001b[39m \u001b[38;5;28;01mNone\u001b[39;00m \u001b[38;5;241m=\u001b[39m \u001b[38;5;28;01mNone\u001b[39;00m,\n\u001b[1;32m      3\u001b[0m            gj_estims: np\u001b[38;5;241m.\u001b[39mndarray \u001b[38;5;241m|\u001b[39m \u001b[38;5;28;01mNone\u001b[39;00m \u001b[38;5;241m=\u001b[39m \u001b[38;5;28;01mNone\u001b[39;00m) \u001b[38;5;241m-\u001b[39m\u001b[38;5;241m>\u001b[39m np\u001b[38;5;241m.\u001b[39mndarray:\n\u001b[1;32m      4\u001b[0m \u001b[38;5;250m    \u001b[39m\u001b[38;5;124;03m'''\u001b[39;00m\n\u001b[1;32m      5\u001b[0m \u001b[38;5;124;03m    Calculates SAMSEE(k) for k = 1, ..., K*\u001b[39;00m\n\u001b[1;32m      6\u001b[0m \u001b[38;5;124;03m    :param hill_estims: Hill's estimates of EVI\u001b[39;00m\n\u001b[1;32m      7\u001b[0m \u001b[38;5;124;03m    :param gj_estims: Generalised Jackknife estimates of EVI\u001b[39;00m\n\u001b[1;32m      8\u001b[0m \u001b[38;5;124;03m    '''\u001b[39;00m\n\u001b[1;32m      9\u001b[0m     data \u001b[38;5;241m=\u001b[39m sample[sample \u001b[38;5;241m>\u001b[39m \u001b[38;5;241m0\u001b[39m]\n",
      "\u001b[0;31mNameError\u001b[0m: name 'np' is not defined"
     ]
    }
   ],
   "source": [
    "def samsee(sample: np.ndarray,\n",
    "           hill_estims: np.ndarray | None = None,\n",
    "           gj_estims: np.ndarray | None = None) -> np.ndarray:\n",
    "    '''\n",
    "    Calculates SAMSEE(k) for k = 1, ..., K*\n",
    "    :param hill_estims: Hill's estimates of EVI\n",
    "    :param gj_estims: Generalised Jackknife estimates of EVI\n",
    "    '''\n",
    "    data = sample[sample > 0]\n",
    "    if not np.all(data[:-1] >= data[1:]):\n",
    "        data = np.sort(data)[::-1]\n",
    "    log_data = np.log(data)\n",
    "\n",
    "    if hill_estims is None:\n",
    "        hill_estims = hill_estimator(data)\n",
    "\n",
    "    if gj_estims is None:\n",
    "        gj_estims = generalised_jackknife_estimator(data, hill_estims)\n",
    "\n",
    "    gamma_V = (gj_estims + hill_estims) / 2\n",
    "\n",
    "    hill_prefs = np.concatenate([[0], np.cumsum(hill_estims)])\n",
    "    b = lambda k, K: (hill_prefs[K] - hill_prefs[k - 1]) / (K - k + 1) - hill_prefs[K] / K\n",
    "\n",
    "    N = min(len(data), 4 * int(len(data)**0.5))\n",
    "\n",
    "    AD = np.zeros(N)\n",
    "    for K in range(1, N):\n",
    "        b_arr = np.array([b(k, K) for k in range(1, K + 1)])\n",
    "        AD[K] = ((gamma_V[:K] + b_arr - hill_estims[:K])**2).sum() / K\n",
    "\n",
    "    deriv = lambda K, i: np.abs((AD[K] - AD[K + i]) / i)\n",
    "    func = lambda K: deriv(K, -2) + deriv(K, -1) + deriv(K, 1) + deriv(K, 2)\n",
    "    \n",
    "    max_K = 3\n",
    "    for K in range(3, N - 3):\n",
    "        if func(K) < func(max_K):\n",
    "            max_K = K\n",
    "\n",
    "    grid = np.arange(max_K) + 1\n",
    "    b_arr = np.array([b(k, max_K) for k in grid])\n",
    "\n",
    "    return gj_estims[max_K - 1]**2 / grid + 4 * b_arr**2\n",
    "\n",
    "\n",
    "def samsee_tail_size(sample: np.ndarray,\n",
    "                     hill_estims: np.ndarray | None = None,\n",
    "                     gj_estims: np.ndarray | None = None) -> int:\n",
    "    '''\n",
    "    Calculates k_{SAMSEE} for Generalised Jackknife estimator\n",
    "    :param hill_estims: Hill's estimates of EVI\n",
    "    :param gj_estims: Generalised Jackknife estimates of EVI\n",
    "    '''\n",
    "    return np.argmin(samsee(sample, hill_estims, gj_estims)) + 1"
   ]
  },
  {
   "cell_type": "markdown",
   "id": "383a8e14-5e25-4ed0-bf19-108db94c96b7",
   "metadata": {},
   "source": [
    "Тест Phillips-Loretan:\n",
    "\n",
    "$$\n",
    "H_0: \\alpha_1 = \\alpha_2 = \\alpha\n",
    "$$\n",
    "\n",
    "$$\n",
    "S = \\frac{k_1^* (\\hat{\\alpha}_1 / \\hat{\\alpha}_2 - 1)^2}{(\\hat{\\alpha}_1 / \\hat{\\alpha}_2)^2 + (k_1^* / k_2^*)}\n",
    "$$\n",
    "\n",
    "$$\n",
    "H_0 \\Rightarrow S \\xrightarrow[]{d} \\chi_1^2\n",
    "$$"
   ]
  },
  {
   "cell_type": "code",
   "execution_count": 2,
   "id": "16aa906d-3251-4ea7-bdf1-812cb62c6ae8",
   "metadata": {},
   "outputs": [],
   "source": [
    "def phillips_loretan_pvalue(alpha1: float, k1: float, alpha2: float, k2: float) -> float:\n",
    "    '''\n",
    "    Calculates Phillips-Loretan test pvalue\n",
    "    '''\n",
    "    stat = k1 * (alpha1 / alpha2 - 1)**2 / ((alpha1 / alpha2)**2 + (k1 / k2)**2)\n",
    "    return sps.chi2.sf(x=stat, df=1)"
   ]
  },
  {
   "cell_type": "code",
   "execution_count": 171,
   "id": "c810a6d3-54ba-4376-ab9f-f8afd83fe867",
   "metadata": {},
   "outputs": [],
   "source": [
    "sample1 = frechet_sample(size=10000, gamma=1)\n",
    "sample2 = frechet_sample(size=10000, gamma=2)"
   ]
  },
  {
   "cell_type": "code",
   "execution_count": 172,
   "id": "1c581818-7516-45e0-a764-11d82c4e7487",
   "metadata": {},
   "outputs": [],
   "source": [
    "hill_gamma1 = hill_estimator(sample1)\n",
    "gj_gamma1 = generalised_jackknife_estimator(sample1, hill_gamma1)\n",
    "gj_alpha1 = 1 / gj_gamma1\n",
    "k1_opt = eye_ball_tail_size(gj_alpha1)\n",
    "\n",
    "hill_gamma2 = hill_estimator(sample2)\n",
    "gj_gamma2 = generalised_jackknife_estimator(sample2, hill_gamma2)\n",
    "gj_alpha2 = 1 / gj_gamma2\n",
    "k2_opt = eye_ball_tail_size(gj_alpha2)"
   ]
  },
  {
   "cell_type": "code",
   "execution_count": 173,
   "id": "2163b11a-e503-477f-9242-bfeed05bc0b1",
   "metadata": {},
   "outputs": [
    {
     "data": {
      "text/plain": [
       "0.5343681891967883"
      ]
     },
     "execution_count": 173,
     "metadata": {},
     "output_type": "execute_result"
    }
   ],
   "source": [
    "phillips_loretan_pvalue(gj_alpha1[k1_opt - 1], k1_opt, gj_alpha2[k2_opt - 1], k2_opt)"
   ]
  },
  {
   "cell_type": "code",
   "execution_count": 174,
   "id": "57c5f4b9-d353-4c2c-a7ea-00de3ef365f4",
   "metadata": {},
   "outputs": [],
   "source": [
    "k1_samsee = samsee_tail_size(sample1, hill_gamma1, gj_gamma1)\n",
    "k2_samsee = samsee_tail_size(sample2, hill_gamma2, gj_gamma2)"
   ]
  },
  {
   "cell_type": "code",
   "execution_count": 175,
   "id": "5f6f9063-0b8b-4710-aa00-34b6391afd21",
   "metadata": {},
   "outputs": [
    {
     "data": {
      "text/plain": [
       "0.00041528857216681397"
      ]
     },
     "execution_count": 175,
     "metadata": {},
     "output_type": "execute_result"
    }
   ],
   "source": [
    "phillips_loretan_pvalue(1 / hill_gamma1[k1_samsee - 1], k1_samsee,\n",
    "                        1 / hill_gamma2[k2_samsee - 1], k2_samsee)"
   ]
  },
  {
   "cell_type": "code",
   "execution_count": 536,
   "id": "6b75f9c8-34e7-45b6-912e-581a6722dcf5",
   "metadata": {},
   "outputs": [
    {
     "data": {
      "image/png": "[encoded data removed]",
      "text/plain": [
       "<Figure size 700x700 with 1 Axes>"
      ]
     },
     "metadata": {},
     "output_type": "display_data"
    }
   ],
   "source": [
    "plt.figure(figsize=(7, 7))\n",
    "\n",
    "plt.plot(np.arange(1, len(gj_alpha1) + 1), gj_alpha1)\n",
    "plt.axhline(y=1, color='red', linestyle = '--')\n",
    "\n",
    "plt.title('Generalised Jackknife estimator')\n",
    "plt.xlabel('k')\n",
    "plt.ylabel('$\\\\alpha(k)$')\n",
    "\n",
    "plt.xlim((-5, 200))\n",
    "plt.ylim((-5, 10))\n",
    "\n",
    "plt.show()"
   ]
  },
  {
   "cell_type": "code",
   "execution_count": 537,
   "id": "bdc947fa-fe74-4c78-9a72-6b17a38daa7e",
   "metadata": {},
   "outputs": [
    {
     "data": {
      "image/png": "[encoded data removed]",
      "text/plain": [
       "<Figure size 700x700 with 1 Axes>"
      ]
     },
     "metadata": {},
     "output_type": "display_data"
    }
   ],
   "source": [
    "plt.figure(figsize=(7, 7))\n",
    "\n",
    "plt.plot(np.arange(1, len(gj_alpha2) + 1), gj_alpha2)\n",
    "plt.axhline(y=1, color='red', linestyle = '--')\n",
    "\n",
    "plt.title('Generalised Jackknife estimator')\n",
    "plt.xlabel('k')\n",
    "plt.ylabel('$\\\\alpha(k)$')\n",
    "\n",
    "plt.xlim((-5, 200))\n",
    "plt.ylim((-5, 10))\n",
    "\n",
    "plt.show()"
   ]
  },
  {
   "cell_type": "code",
   "execution_count": 223,
   "id": "3050e8e2-5bec-40f4-bf18-d7eaf0233151",
   "metadata": {},
   "outputs": [],
   "source": [
    "sample = frechet_sample(size=1000, gamma=1)"
   ]
  },
  {
   "cell_type": "code",
   "execution_count": 224,
   "id": "7b8263ed-b5d2-475c-9e88-0ff3f387045c",
   "metadata": {},
   "outputs": [],
   "source": [
    "hill_gamma = hill_estimator(sample)\n",
    "gj_gamma = generalised_jackknife_estimator(sample, hill_gamma)"
   ]
  },
  {
   "cell_type": "code",
   "execution_count": 225,
   "id": "8f1326b3-3208-4236-83e3-ffbfd1ce3008",
   "metadata": {},
   "outputs": [
    {
     "data": {
      "text/plain": [
       "93"
      ]
     },
     "execution_count": 225,
     "metadata": {},
     "output_type": "execute_result"
    }
   ],
   "source": [
    "k_samsee = samsee_tail_size(sample, hill_gamma, gj_gamma)\n",
    "k_samsee"
   ]
  },
  {
   "cell_type": "code",
   "execution_count": 226,
   "id": "e7e11cc0-856c-4541-9e93-c8d38981853f",
   "metadata": {},
   "outputs": [
    {
     "data": {
      "text/plain": [
       "1.0124696042449743"
      ]
     },
     "execution_count": 226,
     "metadata": {},
     "output_type": "execute_result"
    }
   ],
   "source": [
    "hill_gamma[k_samsee - 1]"
   ]
  },
  {
   "cell_type": "code",
   "execution_count": 227,
   "id": "1ea811cc-e613-42dd-bb20-a50cf161dcb3",
   "metadata": {},
   "outputs": [
    {
     "data": {
      "text/plain": [
       "0.9357099374097966"
      ]
     },
     "execution_count": 227,
     "metadata": {},
     "output_type": "execute_result"
    }
   ],
   "source": [
    "gj_gamma[k_samsee - 1]"
   ]
  },
  {
   "cell_type": "code",
   "execution_count": null,
   "id": "815f2bf9-4010-40d6-b453-90bc862c8f21",
   "metadata": {},
   "outputs": [],
   "source": []
  }
 ],
 "metadata": {
  "kernelspec": {
   "display_name": "Python 3 (ipykernel)",
   "language": "python",
   "name": "python3"
  },
  "language_info": {
   "codemirror_mode": {
    "name": "ipython",
    "version": 3
   },
   "file_extension": ".py",
   "mimetype": "text/x-python",
   "name": "python",
   "nbconvert_exporter": "python",
   "pygments_lexer": "ipython3",
   "version": "3.13.2"
  }
 },
 "nbformat": 4,
 "nbformat_minor": 5
}
